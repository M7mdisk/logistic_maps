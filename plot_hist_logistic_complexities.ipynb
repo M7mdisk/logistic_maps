{
 "cells": [
  {
   "cell_type": "code",
   "execution_count": 1,
   "metadata": {},
   "outputs": [],
   "source": [
    "from KC_methods import calc_KC76\n",
    "import pandas as pd\n",
    "import numpy as np\n",
    "from logistic_maps import generate_logistic"
   ]
  },
  {
   "cell_type": "code",
   "execution_count": 2,
   "metadata": {},
   "outputs": [],
   "source": [
    "def discretize(arr):\n",
    "    return [1 if num >= 0.5 else 0 for num in arr]\n",
    "\n",
    "def to_bin(arr):\n",
    "    return ''.join(list(map(str,arr)))\n",
    "\n",
    "def f(x,r):\n",
    "    return r * x * (1-x)\n",
    "\n",
    "def logistic_map(x_0,r,iterations,epsilon=0,e_freq=0):\n",
    "    res = []\n",
    "    cur = x_0\n",
    "    kicks = np.random.rand(iterations) < e_freq\n",
    "    epsilons = np.random.uniform(-epsilon,epsilon,size=iterations)\n",
    "    for i,is_kick in enumerate(kicks):\n",
    "        cur = r * cur * (1-cur)\n",
    "\n",
    "        # When kick occurs\n",
    "        if is_kick:\n",
    "            added_eps = epsilons[i]\n",
    "            # Keep sampling for epsilon until we get a valid value\n",
    "            while  0>= cur + added_eps or cur + added_eps>=1:\n",
    "                added_eps = np.random.uniform(-epsilon,epsilon)\n",
    "            cur += added_eps\n",
    "        assert 0<= cur <=1, f\"Cur os {cur}\"\n",
    "        res.append(cur)\n",
    "    return res\n"
   ]
  },
  {
   "cell_type": "code",
   "execution_count": null,
   "metadata": {},
   "outputs": [],
   "source": [
    "from functools import cache\n",
    "\n",
    "SAMPLES = 10**6\n",
    "\n",
    "def generate_patterns(iterations,epsilon=0,e_freq=0,r=(0,4)):\n",
    "\n",
    "    '''Return list of patterns  from random `r` and `x_0`. patterns are of length `iterations`\n",
    "        If r parameter is provided it will use that as the initial value of r, otherwise it will be random.\n",
    "    \n",
    "    '''\n",
    "    patterns = [''] *(SAMPLES) \n",
    "    print(r)\n",
    "    for i in range(SAMPLES):\n",
    "        rr = np.random.uniform(r[0],r[1])\n",
    "        x_0 = np.random.rand()\n",
    "        mapp = logistic_map(x_0,rr,iterations,epsilon=epsilon,e_freq=e_freq)\n",
    "        patterns[i] = to_bin(discretize(mapp))\n",
    "    return patterns\n",
    "\n",
    "@cache\n",
    "def generate_logistic(iterations,start_iteration=0,epsilon=0,e_frequency=0,r=(0,4)):\n",
    "    ''' Wrapper function for logicstic map generation with kick.\n",
    "\n",
    "    Parameters:\n",
    "        `iterations`: the number of iterations that will be taken into account, this will determine the length of the pattern.\n",
    "        `start_iteration`: after what iteration to start observing the pattern. defaults to `0`.\n",
    "        `epsilon`: The magnitude of the random kick applied, when 0.5 is passed, the kick will be between -0.5,0.5. default to 0\n",
    "        `e_frequency`: Nonnegative number determining the frequency of the kick. defaults to 0.\n",
    "                       If the number is in the range [0,1), this is a probability.\n",
    "    '''\n",
    "                       # Otherwise it represents the frequency of the kick (1 means every time, 2 means every two time [nokick,kick,nokick,kick]) NOT IMPLEMENTED\n",
    "    patterns = generate_patterns(start_iteration+iterations,epsilon=epsilon,e_freq=e_frequency,r=r)\n",
    "    patterns = [ pattern[start_iteration:] for pattern in patterns]\n",
    "    return patterns"
   ]
  },
  {
   "cell_type": "code",
   "execution_count": 9,
   "metadata": {},
   "outputs": [
    {
     "name": "stdout",
     "output_type": "stream",
     "text": [
      "(0, 4)\n"
     ]
    }
   ],
   "source": [
    "patterns = generate_logistic(25,0,0,0,(0,4))"
   ]
  },
  {
   "cell_type": "code",
   "execution_count": null,
   "metadata": {},
   "outputs": [
    {
     "name": "stdout",
     "output_type": "stream",
     "text": [
      "(0, 4)\n",
      "(3, 4)\n"
     ]
    }
   ],
   "source": [
    "ar = []\n",
    "for start in (0,3,3.57,4):\n",
    "    patterns = generate_logistic(25,0,0,0,(start,4))\n",
    "    ar.append(patterns)\n"
   ]
  },
  {
   "cell_type": "code",
   "execution_count": 12,
   "metadata": {},
   "outputs": [
    {
     "name": "stdout",
     "output_type": "stream",
     "text": [
      "(0, 4)\n",
      "(3, 4)\n"
     ]
    },
    {
     "name": "stderr",
     "output_type": "stream",
     "text": [
      "/tmp/ipykernel_16371/2350989353.py:17: UserWarning: The figure layout has changed to tight\n",
      "  plt.tight_layout()\n"
     ]
    },
    {
     "name": "stdout",
     "output_type": "stream",
     "text": [
      "(3.57, 4)\n"
     ]
    },
    {
     "name": "stderr",
     "output_type": "stream",
     "text": [
      "/tmp/ipykernel_16371/2350989353.py:17: UserWarning: The figure layout has changed to tight\n",
      "  plt.tight_layout()\n"
     ]
    },
    {
     "name": "stdout",
     "output_type": "stream",
     "text": [
      "(4, 4)\n"
     ]
    },
    {
     "name": "stderr",
     "output_type": "stream",
     "text": [
      "/tmp/ipykernel_16371/2350989353.py:17: UserWarning: The figure layout has changed to tight\n",
      "  plt.tight_layout()\n"
     ]
    },
    {
     "data": {
      "text/plain": [
       "<Figure size 640x480 with 0 Axes>"
      ]
     },
     "metadata": {},
     "output_type": "display_data"
    }
   ],
   "source": [
    "import matplotlib.pyplot as plt\n",
    "from KC_methods import calc_KC76\n",
    "\n",
    "for patterns in ar:\n",
    "    df = pd.DataFrame()\n",
    "    df[\"x\"] = patterns\n",
    "    df[\"K\"] = df[\"x\"].apply(calc_KC76)\n",
    "    df[\"scaled\"] = len(patterns[0]) * ( df[\"K\"]-df[\"K\"].min() ) / ( df[\"K\"].max()-df[\"K\"].min() )\n",
    "    fig = df[\"scaled\"].hist(density=True)\n",
    "    plt.yscale(\"log\")\n",
    "    plt.ylabel(\"Frequency\",fontsize=15)\n",
    "    plt.xlabel(r'$\\mathit{\\tilde{K}(x)}$',fontsize=15)\n",
    "    plt.xticks(fontsize=14)\n",
    "    plt.yticks(fontsize=14)\n",
    "    plt.grid(False)\n",
    "    plt.tight_layout()\n",
    "    plt.savefig(f\"ttt/hist_scaled_{start}.png\")\n",
    "    plt.clf()"
   ]
  }
 ],
 "metadata": {
  "kernelspec": {
   "display_name": "Python 3 (ipykernel)",
   "language": "python",
   "name": "python3"
  },
  "language_info": {
   "codemirror_mode": {
    "name": "ipython",
    "version": 3
   },
   "file_extension": ".py",
   "mimetype": "text/x-python",
   "name": "python",
   "nbconvert_exporter": "python",
   "pygments_lexer": "ipython3",
   "version": "3.11.3"
  }
 },
 "nbformat": 4,
 "nbformat_minor": 4
}
