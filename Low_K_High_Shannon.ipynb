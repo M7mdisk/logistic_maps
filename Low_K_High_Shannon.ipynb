{
 "cells": [
  {
   "cell_type": "code",
   "execution_count": 9,
   "metadata": {},
   "outputs": [],
   "source": [
    "from KC_methods import entropy, calc_KC76\n",
    "import numpy as np\n",
    "\n",
    "n = 250\n",
    "\n",
    "string = \"01\" * n\n",
    "num_bits = len(string)  # Number of bits in the string\n",
    "\n",
    "strings = []\n",
    "\n",
    "for i in range(100000):\n",
    "    # Generate a random number between 0 and 10\n",
    "    x = np.random.randint(0, n//2)\n",
    "\n",
    "    indices_to_flip = np.random.choice(num_bits, x, replace=False)\n",
    "\n",
    "    string_array = np.array(list(string))\n",
    "\n",
    "    # Flip the bits at the selected indices using NumPy's array indexing\n",
    "    string_array[indices_to_flip] = np.where(string_array[indices_to_flip] == '0', '1', '0')\n",
    "\n",
    "    flipped_string = ''.join(string_array)\n",
    "    strings.append(flipped_string)"
   ]
  },
  {
   "cell_type": "code",
   "execution_count": 10,
   "metadata": {},
   "outputs": [
    {
     "data": {
      "text/html": [
       "<div>\n",
       "<style scoped>\n",
       "    .dataframe tbody tr th:only-of-type {\n",
       "        vertical-align: middle;\n",
       "    }\n",
       "\n",
       "    .dataframe tbody tr th {\n",
       "        vertical-align: top;\n",
       "    }\n",
       "\n",
       "    .dataframe thead th {\n",
       "        text-align: right;\n",
       "    }\n",
       "</style>\n",
       "<table border=\"1\" class=\"dataframe\">\n",
       "  <thead>\n",
       "    <tr style=\"text-align: right;\">\n",
       "      <th></th>\n",
       "      <th>seq</th>\n",
       "      <th>entropy</th>\n",
       "      <th>KC</th>\n",
       "    </tr>\n",
       "  </thead>\n",
       "  <tbody>\n",
       "    <tr>\n",
       "      <th>0</th>\n",
       "      <td>0101010101010100010101000101010101010101010111...</td>\n",
       "      <td>499.630607</td>\n",
       "      <td>300.353774</td>\n",
       "    </tr>\n",
       "    <tr>\n",
       "      <th>1</th>\n",
       "      <td>1001010100010011000100010110010101011101001101...</td>\n",
       "      <td>499.532466</td>\n",
       "      <td>461.737891</td>\n",
       "    </tr>\n",
       "    <tr>\n",
       "      <th>2</th>\n",
       "      <td>0101010101010101010101010101010111010101010101...</td>\n",
       "      <td>499.976917</td>\n",
       "      <td>76.209166</td>\n",
       "    </tr>\n",
       "    <tr>\n",
       "      <th>3</th>\n",
       "      <td>0101010101011001010011010101010001010101010101...</td>\n",
       "      <td>499.948062</td>\n",
       "      <td>390.011616</td>\n",
       "    </tr>\n",
       "    <tr>\n",
       "      <th>4</th>\n",
       "      <td>0000110101110011010101010101110011010110010101...</td>\n",
       "      <td>499.948062</td>\n",
       "      <td>475.186567</td>\n",
       "    </tr>\n",
       "    <tr>\n",
       "      <th>...</th>\n",
       "      <td>...</td>\n",
       "      <td>...</td>\n",
       "      <td>...</td>\n",
       "    </tr>\n",
       "    <tr>\n",
       "      <th>99995</th>\n",
       "      <td>0000000101010101011101110101110101010101110110...</td>\n",
       "      <td>499.907664</td>\n",
       "      <td>394.494509</td>\n",
       "    </tr>\n",
       "    <tr>\n",
       "      <th>99996</th>\n",
       "      <td>0101010101010101010101010101010100010101110101...</td>\n",
       "      <td>499.532466</td>\n",
       "      <td>138.969656</td>\n",
       "    </tr>\n",
       "    <tr>\n",
       "      <th>99997</th>\n",
       "      <td>0101010000000101110111010101010101010001110101...</td>\n",
       "      <td>499.976917</td>\n",
       "      <td>376.562940</td>\n",
       "    </tr>\n",
       "    <tr>\n",
       "      <th>99998</th>\n",
       "      <td>0101010101010101010101010101010101010111010101...</td>\n",
       "      <td>499.976917</td>\n",
       "      <td>116.555196</td>\n",
       "    </tr>\n",
       "    <tr>\n",
       "      <th>99999</th>\n",
       "      <td>0101010101010101010101010101010101010101010101...</td>\n",
       "      <td>499.994229</td>\n",
       "      <td>40.346029</td>\n",
       "    </tr>\n",
       "  </tbody>\n",
       "</table>\n",
       "<p>100000 rows × 3 columns</p>\n",
       "</div>"
      ],
      "text/plain": [
       "                                                     seq  ...          KC\n",
       "0      0101010101010100010101000101010101010101010111...  ...  300.353774\n",
       "1      1001010100010011000100010110010101011101001101...  ...  461.737891\n",
       "2      0101010101010101010101010101010111010101010101...  ...   76.209166\n",
       "3      0101010101011001010011010101010001010101010101...  ...  390.011616\n",
       "4      0000110101110011010101010101110011010110010101...  ...  475.186567\n",
       "...                                                  ...  ...         ...\n",
       "99995  0000000101010101011101110101110101010101110110...  ...  394.494509\n",
       "99996  0101010101010101010101010101010100010101110101...  ...  138.969656\n",
       "99997  0101010000000101110111010101010101010001110101...  ...  376.562940\n",
       "99998  0101010101010101010101010101010101010111010101...  ...  116.555196\n",
       "99999  0101010101010101010101010101010101010101010101...  ...   40.346029\n",
       "\n",
       "[100000 rows x 3 columns]"
      ]
     },
     "execution_count": 10,
     "metadata": {},
     "output_type": "execute_result"
    }
   ],
   "source": [
    "import pandas as pd\n",
    "\n",
    "df = pd.DataFrame()\n",
    "\n",
    "df[\"seq\"] = strings\n",
    "\n",
    "df[\"entropy\"] = df[\"seq\"].apply(entropy)\n",
    "df[\"KC\"] = df[\"seq\"].apply(calc_KC76)\n",
    "\n",
    "df"
   ]
  },
  {
   "cell_type": "code",
   "execution_count": 11,
   "metadata": {},
   "outputs": [
    {
     "data": {
      "text/plain": [
       "<matplotlib.collections.PathCollection at 0x7f05e2594890>"
      ]
     },
     "execution_count": 11,
     "metadata": {},
     "output_type": "execute_result"
    },
    {
     "data": {
      "image/png": "[encoded data removed]",
      "text/plain": [
       "<Figure size 640x480 with 1 Axes>"
      ]
     },
     "metadata": {},
     "output_type": "display_data"
    }
   ],
   "source": [
    "import matplotlib.pyplot as plt\n",
    "\n",
    "plt.scatter(df[\"KC\"],df[\"entropy\"])"
   ]
  }
 ],
 "metadata": {
  "kernelspec": {
   "display_name": "Python 3",
   "language": "python",
   "name": "python3"
  },
  "language_info": {
   "codemirror_mode": {
    "name": "ipython",
    "version": 3
   },
   "file_extension": ".py",
   "mimetype": "text/x-python",
   "name": "python",
   "nbconvert_exporter": "python",
   "pygments_lexer": "ipython3",
   "version": "3.11.3"
  },
  "orig_nbformat": 4
 },
 "nbformat": 4,
 "nbformat_minor": 2
}
