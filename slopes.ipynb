{
 "cells": [
  {
   "cell_type": "code",
   "execution_count": 1,
   "metadata": {},
   "outputs": [],
   "source": [
    "import numpy as np\n",
    "import matplotlib.pyplot as plt\n",
    "from collections import Counter"
   ]
  },
  {
   "cell_type": "code",
   "execution_count": 2,
   "metadata": {},
   "outputs": [],
   "source": [
    "\n",
    "def KC_LZ(string):\n",
    "    n = len(string)\n",
    "    s = '0'+string\n",
    "    c = 1\n",
    "    l = 1\n",
    "    i = 0\n",
    "    k = 1\n",
    "    k_max = 1\n",
    "\n",
    "    while True:\n",
    "        if s[i+k] != s[l+k]:\n",
    "            if k > k_max:\n",
    "                k_max = k\n",
    "            i += 1\n",
    "            if i == l:\n",
    "                c += 1\n",
    "                l += k_max\n",
    "                if l+1 > n:\n",
    "                    break\n",
    "                else:\n",
    "                    i = 0\n",
    "                    k = 1\n",
    "                    k_max = 1\n",
    "            else:\n",
    "                k = 1\n",
    "        else:\n",
    "            k += 1\n",
    "            if l+k > n:\n",
    "                c += 1\n",
    "                break\n",
    "    # a la Lempel and Ziv (IEEE trans inf theory it-22, 75 (1976),\n",
    "    # h(n)=c(n)/b(n) where c(n) is the kolmogorov complexity\n",
    "    # and h(n) is a normalised measure of complexity.\n",
    "    complexity = c\n",
    "    # b=n*1.0/np.log2(n)\n",
    "    # complexity=c/b;\n",
    "    return complexity\n"
   ]
  },
  {
   "cell_type": "code",
   "execution_count": 3,
   "metadata": {},
   "outputs": [],
   "source": [
    "def calc_KC(s):\n",
    "    L = len(s)\n",
    "    if s == '0'*L or s == '1'*L:\n",
    "        return np.log2(L)\n",
    "    else:\n",
    "        return np.log2(L)*(KC_LZ(s)+KC_LZ(s[::-1]))/2.0"
   ]
  },
  {
   "cell_type": "code",
   "execution_count": 4,
   "metadata": {},
   "outputs": [],
   "source": [
    "def round_int(x):\n",
    "    if x in [float(\"-inf\"),float(\"inf\")]: return float(\"nan\")\n",
    "    return int(round(x))"
   ]
  },
  {
   "cell_type": "code",
   "execution_count": 5,
   "metadata": {},
   "outputs": [],
   "source": [
    "def discretize(arr):\n",
    "    return list(map(round,arr))\n",
    "\n",
    "def to_bin(arr):\n",
    "    return ''.join(list(map(str,arr)))\n",
    "\n",
    "def f(x,r):\n",
    "    return r * x * (1-x)\n",
    "\n",
    "def logistic_map(x_0,r,iterations,epsilon=0,e_freq=0):\n",
    "    assert r>0 \n",
    "    assert r < 4\n",
    "    res = [x_0]\n",
    "    cur = x_0\n",
    "    for i in range(iterations-1):\n",
    "        cur = f(cur,r)\n",
    "\n",
    "        # When kick occurs\n",
    "        if np.random.rand() < e_freq:\n",
    "            added_eps = np.random.uniform(-epsilon,epsilon)\n",
    "            # Keep sampling for epsilon until we get a valid value\n",
    "            while  0>= cur + added_eps or cur + added_eps>=1:\n",
    "                added_eps = np.random.uniform(-epsilon,epsilon)\n",
    "            cur += added_eps\n",
    "        assert 0< cur <1\n",
    "        res.append(cur)\n",
    "    return res"
   ]
  },
  {
   "cell_type": "code",
   "execution_count": 6,
   "metadata": {},
   "outputs": [],
   "source": [
    "SAMPLES = 10**5\n",
    "\n",
    "def generate_patterns(iterations,epsilon=0,e_freq=0,r=-1):\n",
    "\n",
    "    '''Return list of patterns  from random `r` and `x_0`. patterns are of length `iterations`\n",
    "        If r parameter is provided it will use that as the initial value of r, otherwise it will be random.\n",
    "    \n",
    "    '''\n",
    "    r_is_random = r == -1\n",
    "    patterns = []\n",
    "    for _ in range(SAMPLES):\n",
    "        if (r_is_random):\n",
    "            r= np.random.uniform(4)\n",
    "        x_0 = np.random.rand()\n",
    "        mapp = logistic_map(x_0,r,iterations,epsilon=epsilon,e_freq=e_freq)\n",
    "        patterns.append(to_bin(discretize(mapp)) )\n",
    "    return patterns\n"
   ]
  },
  {
   "cell_type": "code",
   "execution_count": 7,
   "metadata": {},
   "outputs": [],
   "source": [
    "def generate_logistic(iterations,start_iteration=0,epsilon=0,e_frequency=0,r=-1):\n",
    "    ''' Wrapper function for logicstic map generation with kick.\n",
    "\n",
    "    Parameters:\n",
    "        `iterations`: the number of iterations that will be taken into account, this will determine the length of the pattern.\n",
    "        `start_iteration`: after what iteration to start observing the pattern. defaults to `0`.\n",
    "        `epsilon`: The magnitude of the random kick applied, when 0.5 is passed, the kick will be between -0.5,0.5. default to 0\n",
    "        `e_frequency`: Nonnegative number determining the frequency of the kick. defaults to 0.\n",
    "                       If the number is in the range [0,1), this is a probability.\n",
    "    '''\n",
    "                       # Otherwise it represents the frequency of the kick (1 means every time, 2 means every two time [nokick,kick,nokick,kick]) NOT IMPLEMENTED\n",
    "    patterns = generate_patterns(start_iteration+iterations,epsilon=epsilon,e_freq=e_frequency,r=r)\n",
    "    patterns = [ pattern[start_iteration:] for pattern in patterns]\n",
    "    return patterns"
   ]
  },
  {
   "cell_type": "code",
   "execution_count": 8,
   "metadata": {},
   "outputs": [],
   "source": [
    "def calc_SB(X,y):\n",
    "     return np.polyfit(X,y,1);"
   ]
  },
  {
   "cell_type": "code",
   "execution_count": 10,
   "metadata": {},
   "outputs": [],
   "source": [
    "n_iterations = 25\n",
    "epsilon = 0.25\n",
    "e_frequency = 1\n",
    "r = -1"
   ]
  },
  {
   "cell_type": "code",
   "execution_count": 11,
   "metadata": {},
   "outputs": [],
   "source": [
    "# Measuring the slope\n",
    "# highest probability for each complexity value np.polyfit\n",
    "# start_iteration 0,1000"
   ]
  },
  {
   "attachments": {},
   "cell_type": "markdown",
   "metadata": {},
   "source": [
    "Measuring the slope\n",
    "highest probability for each complexity value np.polyfit\n",
    "start_iteration 0,1000\n",
    "epsilon_freq = 1\n",
    "epsilon = [0.01 .... 0.6]\n",
    "r=1,2,3,3.5\n"
   ]
  },
  {
   "cell_type": "code",
   "execution_count": 13,
   "metadata": {},
   "outputs": [
    {
     "name": "stdout",
     "output_type": "stream",
     "text": [
      "[0, 0, 0, -1, -0.14239642454189624]\n",
      "[0, 0, 0, 0.5, -0.00012469367666880117]\n",
      "[0, 0, 0, 1.5, 3.740809165351306e-05]\n",
      "[0, 0, 0, 2.0, -9.975492936444144e-05]\n",
      "[0, 0, 0, 2.5, -0.016707843367455042]\n",
      "[0, 0, 0, 3, -0.030620303497352203]\n",
      "[0, 0, 0, 3.5, 0.05795626268147737]\n"
     ]
    },
    {
     "ename": "AssertionError",
     "evalue": "",
     "output_type": "error",
     "traceback": [
      "\u001b[0;31m---------------------------------------------------------------------------\u001b[0m",
      "\u001b[0;31mAssertionError\u001b[0m                            Traceback (most recent call last)",
      "Cell \u001b[0;32mIn[13], line 8\u001b[0m\n\u001b[1;32m      6\u001b[0m \u001b[39mfor\u001b[39;00m e_frequency \u001b[39min\u001b[39;00m [\u001b[39m0\u001b[39m,\u001b[39m0.2\u001b[39m,\u001b[39m0.5\u001b[39m,\u001b[39m0.7\u001b[39m,\u001b[39m1\u001b[39m]:\n\u001b[1;32m      7\u001b[0m     \u001b[39mfor\u001b[39;00m r \u001b[39min\u001b[39;00m [\u001b[39m-\u001b[39m\u001b[39m1\u001b[39m,\u001b[39m0.5\u001b[39m,\u001b[39m1.5\u001b[39m,\u001b[39m2.0\u001b[39m,\u001b[39m2.5\u001b[39m,\u001b[39m3\u001b[39m,\u001b[39m3.5\u001b[39m,\u001b[39m4\u001b[39m]:\n\u001b[0;32m----> 8\u001b[0m         patterns \u001b[39m=\u001b[39m generate_logistic(n_iterations,start_iteration\u001b[39m=\u001b[39;49mstart_iteration,epsilon\u001b[39m=\u001b[39;49mepsilon,e_frequency\u001b[39m=\u001b[39;49me_frequency,r\u001b[39m=\u001b[39;49mr)\n\u001b[1;32m      9\u001b[0m         probability \u001b[39m=\u001b[39m Counter(patterns)\n\u001b[1;32m     10\u001b[0m         probability \u001b[39m=\u001b[39m {k: v\u001b[39m/\u001b[39mSAMPLES \u001b[39mfor\u001b[39;00m k,v \u001b[39min\u001b[39;00m probability\u001b[39m.\u001b[39mitems()}\n",
      "Cell \u001b[0;32mIn[7], line 12\u001b[0m, in \u001b[0;36mgenerate_logistic\u001b[0;34m(iterations, start_iteration, epsilon, e_frequency, r)\u001b[0m\n\u001b[1;32m      2\u001b[0m \u001b[39m\u001b[39m\u001b[39m''' Wrapper function for logicstic map generation with kick.\u001b[39;00m\n\u001b[1;32m      3\u001b[0m \n\u001b[1;32m      4\u001b[0m \u001b[39mParameters:\u001b[39;00m\n\u001b[0;32m   (...)\u001b[0m\n\u001b[1;32m      9\u001b[0m \u001b[39m                   If the number is in the range [0,1), this is a probability.\u001b[39;00m\n\u001b[1;32m     10\u001b[0m \u001b[39m'''\u001b[39;00m\n\u001b[1;32m     11\u001b[0m                    \u001b[39m# Otherwise it represents the frequency of the kick (1 means every time, 2 means every two time [nokick,kick,nokick,kick]) NOT IMPLEMENTED\u001b[39;00m\n\u001b[0;32m---> 12\u001b[0m patterns \u001b[39m=\u001b[39m generate_patterns(start_iteration\u001b[39m+\u001b[39;49miterations,epsilon\u001b[39m=\u001b[39;49mepsilon,e_freq\u001b[39m=\u001b[39;49me_frequency,r\u001b[39m=\u001b[39;49mr)\n\u001b[1;32m     13\u001b[0m patterns \u001b[39m=\u001b[39m [ pattern[start_iteration:] \u001b[39mfor\u001b[39;00m pattern \u001b[39min\u001b[39;00m patterns]\n\u001b[1;32m     14\u001b[0m \u001b[39mreturn\u001b[39;00m patterns\n",
      "Cell \u001b[0;32mIn[6], line 15\u001b[0m, in \u001b[0;36mgenerate_patterns\u001b[0;34m(iterations, epsilon, e_freq, r)\u001b[0m\n\u001b[1;32m     13\u001b[0m         r\u001b[39m=\u001b[39m np\u001b[39m.\u001b[39mrandom\u001b[39m.\u001b[39muniform(\u001b[39m4\u001b[39m)\n\u001b[1;32m     14\u001b[0m     x_0 \u001b[39m=\u001b[39m np\u001b[39m.\u001b[39mrandom\u001b[39m.\u001b[39mrand()\n\u001b[0;32m---> 15\u001b[0m     mapp \u001b[39m=\u001b[39m logistic_map(x_0,r,iterations,epsilon\u001b[39m=\u001b[39;49mepsilon,e_freq\u001b[39m=\u001b[39;49me_freq)\n\u001b[1;32m     16\u001b[0m     patterns\u001b[39m.\u001b[39mappend(to_bin(discretize(mapp)) )\n\u001b[1;32m     17\u001b[0m \u001b[39mreturn\u001b[39;00m patterns\n",
      "Cell \u001b[0;32mIn[5], line 12\u001b[0m, in \u001b[0;36mlogistic_map\u001b[0;34m(x_0, r, iterations, epsilon, e_freq)\u001b[0m\n\u001b[1;32m     10\u001b[0m \u001b[39mdef\u001b[39;00m \u001b[39mlogistic_map\u001b[39m(x_0,r,iterations,epsilon\u001b[39m=\u001b[39m\u001b[39m0\u001b[39m,e_freq\u001b[39m=\u001b[39m\u001b[39m0\u001b[39m):\n\u001b[1;32m     11\u001b[0m     \u001b[39massert\u001b[39;00m r\u001b[39m>\u001b[39m\u001b[39m0\u001b[39m \n\u001b[0;32m---> 12\u001b[0m     \u001b[39massert\u001b[39;00m r \u001b[39m<\u001b[39m \u001b[39m4\u001b[39m\n\u001b[1;32m     13\u001b[0m     res \u001b[39m=\u001b[39m [x_0]\n\u001b[1;32m     14\u001b[0m     cur \u001b[39m=\u001b[39m x_0\n",
      "\u001b[0;31mAssertionError\u001b[0m: "
     ]
    }
   ],
   "source": [
    "# Generate figure for each epsilon value\n",
    "import pandas as pd\n",
    "\n",
    "results = []\n",
    "for start_iteration in [0]:\n",
    "    for epsilon in [0,0.1,0.2,0.3,0.4,0.5,0.6,0.7,0.8,0.9,1]:\n",
    "        for e_frequency in [0,0.2,0.5,0.7,1]:\n",
    "            for r in [-1,0.5,1.5,2.0,2.5,3,3.5,4]:\n",
    "                patterns = generate_logistic(n_iterations,start_iteration=start_iteration,epsilon=epsilon,e_frequency=e_frequency,r=r)\n",
    "                probability = Counter(patterns)\n",
    "                probability = {k: v/SAMPLES for k,v in probability.items()}\n",
    "\n",
    "                probability_values =  list(probability.values())\n",
    "                complexities = list(map(calc_KC,probability.keys()))\n",
    "\n",
    "                df = pd.DataFrame({\"y\":probability_values,'x':complexities})\n",
    "                groupmax = df.groupby('x').max().reset_index()\n",
    "                ar = calc_SB(groupmax['x'],np.log10(groupmax['y']))#\n",
    "                slope = ar[0]\n",
    "                trendpoly = np.poly1d(ar) \n",
    "                print([start_iteration,epsilon,e_frequency,r,slope])\n",
    "                results.append([start_iteration,epsilon,e_frequency,r,slope])"
   ]
  },
  {
   "cell_type": "code",
   "execution_count": 13,
   "metadata": {},
   "outputs": [],
   "source": [
    "pd.DataFrame(results).to_csv(\"slopes.csv\")"
   ]
  }
 ],
 "metadata": {
  "kernelspec": {
   "display_name": "Python 3 (ipykernel)",
   "language": "python",
   "name": "python3"
  },
  "language_info": {
   "codemirror_mode": {
    "name": "ipython",
    "version": 3
   },
   "file_extension": ".py",
   "mimetype": "text/x-python",
   "name": "python",
   "nbconvert_exporter": "python",
   "pygments_lexer": "ipython3",
   "version": "3.10.10"
  },
  "vscode": {
   "interpreter": {
    "hash": "b24365a9e581578216d0d29db6b7b60d5f38a355f07d5a2e870dec36c1112eec"
   }
  }
 },
 "nbformat": 4,
 "nbformat_minor": 4
}
