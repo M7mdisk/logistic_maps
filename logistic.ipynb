{
 "cells": [
  {
   "cell_type": "code",
   "execution_count": 101,
   "metadata": {},
   "outputs": [],
   "source": [
    "import numpy as np\n",
    "import matplotlib.pyplot as plt\n",
    "from collections import Counter"
   ]
  },
  {
   "cell_type": "code",
   "execution_count": 102,
   "metadata": {},
   "outputs": [],
   "source": [
    "\n",
    "def KC_LZ(string):\n",
    "    n = len(string)\n",
    "    s = '0'+string\n",
    "    c = 1\n",
    "    l = 1\n",
    "    i = 0\n",
    "    k = 1\n",
    "    k_max = 1\n",
    "\n",
    "    while True:\n",
    "        if s[i+k] != s[l+k]:\n",
    "            if k > k_max:\n",
    "                k_max = k\n",
    "            i += 1\n",
    "            if i == l:\n",
    "                c += 1\n",
    "                l += k_max\n",
    "                if l+1 > n:\n",
    "                    break\n",
    "                else:\n",
    "                    i = 0\n",
    "                    k = 1\n",
    "                    k_max = 1\n",
    "            else:\n",
    "                k = 1\n",
    "        else:\n",
    "            k += 1\n",
    "            if l+k > n:\n",
    "                c += 1\n",
    "                break\n",
    "    # a la Lempel and Ziv (IEEE trans inf theory it-22, 75 (1976),\n",
    "    # h(n)=c(n)/b(n) where c(n) is the kolmogorov complexity\n",
    "    # and h(n) is a normalised measure of complexity.\n",
    "    complexity = c\n",
    "    # b=n*1.0/np.log2(n)\n",
    "    # complexity=c/b;\n",
    "    return complexity\n"
   ]
  },
  {
   "cell_type": "code",
   "execution_count": 103,
   "metadata": {},
   "outputs": [],
   "source": [
    "def calc_KC(s):\n",
    "    L = len(s)\n",
    "    if s == '0'*L or s == '1'*L:\n",
    "        return np.log2(L)\n",
    "    else:\n",
    "        return np.log2(L)*(KC_LZ(s)+KC_LZ(s[::-1]))/2.0"
   ]
  },
  {
   "cell_type": "code",
   "execution_count": 104,
   "metadata": {},
   "outputs": [],
   "source": [
    "def round_int(x):\n",
    "    if x in [float(\"-inf\"),float(\"inf\")]: return float(\"nan\")\n",
    "    return int(round(x))"
   ]
  },
  {
   "cell_type": "code",
   "execution_count": 105,
   "metadata": {},
   "outputs": [],
   "source": [
    "def discretize(arr):\n",
    "    return list(map(round,arr))\n",
    "\n",
    "def to_bin(arr):\n",
    "    return ''.join(list(map(str,arr)))\n",
    "\n",
    "def f(x,r):\n",
    "    return r * x * (1-x)\n",
    "\n",
    "def logistic_map(x_0,r,iterations,epsilon=0,e_freq=0):\n",
    "    assert r>0 \n",
    "    assert r < 4\n",
    "    res = [x_0]\n",
    "    cur = x_0\n",
    "    for i in range(iterations-1):\n",
    "        cur = f(cur,r)\n",
    "\n",
    "        # When kick occurs\n",
    "        if np.random.rand() < e_freq:\n",
    "            added_eps = np.random.uniform(-epsilon,epsilon)\n",
    "            # Keep sampling for epsilon until we get a valid value\n",
    "            while  0>= cur + added_eps or cur + added_eps>=1:\n",
    "                added_eps = np.random.uniform(-epsilon,epsilon)\n",
    "            cur += added_eps\n",
    "        assert 0< cur <1\n",
    "        res.append(cur)\n",
    "    return res"
   ]
  },
  {
   "cell_type": "code",
   "execution_count": 106,
   "metadata": {},
   "outputs": [],
   "source": [
    "SAMPLES = 10**6\n",
    "\n",
    "def generate_patterns(iterations,epsilon=0,e_freq=0,r=-1):\n",
    "\n",
    "    '''Return list of patterns  from random `r` and `x_0`. patterns are of length `iterations`\n",
    "        If r parameter is provided it will use that as the initial value of r, otherwise it will be random.\n",
    "    \n",
    "    '''\n",
    "    r_is_random = r == -1\n",
    "    patterns = []\n",
    "    for _ in range(SAMPLES):\n",
    "        if (r_is_random):\n",
    "            r= np.random.uniform(4)\n",
    "        x_0 = np.random.rand()\n",
    "        mapp = logistic_map(x_0,r,iterations,epsilon=epsilon,e_freq=e_freq)\n",
    "        patterns.append(to_bin(discretize(mapp)) )\n",
    "    return patterns\n"
   ]
  },
  {
   "cell_type": "code",
   "execution_count": 107,
   "metadata": {},
   "outputs": [],
   "source": [
    "def generate_logistic(iterations,start_iteration=0,epsilon=0,e_frequency=0,r=-1):\n",
    "    ''' Wrapper function for logicstic map generation with kick.\n",
    "\n",
    "    Parameters:\n",
    "        `iterations`: the number of iterations that will be taken into account, this will determine the length of the pattern.\n",
    "        `start_iteration`: after what iteration to start observing the pattern. defaults to `0`.\n",
    "        `epsilon`: The magnitude of the random kick applied, when 0.5 is passed, the kick will be between -0.5,0.5. default to 0\n",
    "        `e_frequency`: Nonnegative number determining the frequency of the kick. defaults to 0.\n",
    "                       If the number is in the range [0,1), this is a probability.\n",
    "    '''\n",
    "                       # Otherwise it represents the frequency of the kick (1 means every time, 2 means every two time [nokick,kick,nokick,kick]) NOT IMPLEMENTED\n",
    "    patterns = generate_patterns(start_iteration+iterations,epsilon=epsilon,e_freq=e_frequency,r=r)\n",
    "    patterns = [ pattern[start_iteration:] for pattern in patterns]\n",
    "    return patterns"
   ]
  },
  {
   "cell_type": "code",
   "execution_count": 108,
   "metadata": {},
   "outputs": [],
   "source": [
    "n_iterations = 25\n",
    "epsilon = 0.5\n",
    "e_frequency = 1"
   ]
  },
  {
   "cell_type": "code",
   "execution_count": 109,
   "metadata": {},
   "outputs": [],
   "source": [
    "# Generate figure for each epsilon value\n",
    "plt.figure()\n",
    "patterns = generate_logistic(n_iterations,epsilon=epsilon,e_frequency=e_frequency)\n",
    "counts = Counter(patterns)\n",
    "\n",
    "probability = counts.copy()\n",
    "probability = {k: v/SAMPLES for k,v in probability.items()}\n",
    "\n",
    "probability_values =  list(probability.values())\n",
    "complexities = list(map(calc_KC,probability.keys()))\n",
    "plt.scatter(complexities,np.log10(probability_values))\n",
    "plt.savefig(f\"epsilon_always/{epsilon}.png\")"
   ]
  }
 ],
 "metadata": {
  "kernelspec": {
   "display_name": "Python 3 (ipykernel)",
   "language": "python",
   "name": "python3"
  },
  "language_info": {
   "codemirror_mode": {
    "name": "ipython",
    "version": 3
   },
   "file_extension": ".py",
   "mimetype": "text/x-python",
   "name": "python",
   "nbconvert_exporter": "python",
   "pygments_lexer": "ipython3",
   "version": "3.10.10"
  },
  "vscode": {
   "interpreter": {
    "hash": "b24365a9e581578216d0d29db6b7b60d5f38a355f07d5a2e870dec36c1112eec"
   }
  }
 },
 "nbformat": 4,
 "nbformat_minor": 4
}
