{
 "cells": [
  {
   "cell_type": "code",
   "execution_count": 16,
   "metadata": {},
   "outputs": [],
   "source": [
    "import numpy as np\n",
    "import matplotlib.pyplot as plt\n",
    "import pandas as pd\n",
    "from KC_methods import calc_KC76\n",
    "from logistic_maps import logistic_map, to_bin,discretize\n",
    "import random"
   ]
  },
  {
   "cell_type": "code",
   "execution_count": 17,
   "metadata": {},
   "outputs": [],
   "source": [
    "SAMPLES = 10**6\n",
    "\n",
    "def generate_patterns(iterations,epsilon=0,e_freq=0,r=-1,r_range=None):\n",
    "\n",
    "    '''Return list of patterns  from random `r` and `x_0`. patterns are of length `iterations`\n",
    "        If r parameter is provided it will use that as the initial value of r, otherwise it will be random.\n",
    "    \n",
    "    '''\n",
    "    r_is_random = r == -1\n",
    "\n",
    "    patterns = [''] *(SAMPLES) \n",
    "    for i in range(SAMPLES):\n",
    "        if (r_is_random):\n",
    "            r = np.random.uniform(0,4)\n",
    "        if r_range is not None:\n",
    "            r = np.random.uniform(*r_range)\n",
    "        x_0 = np.random.rand()\n",
    "        mapp = logistic_map(x_0,r,iterations,epsilon=epsilon,e_freq=e_freq)\n",
    "        patterns[i] = to_bin(discretize(mapp))\n",
    "    return patterns\n",
    "\n",
    "def generate_logistic(iterations,start_iteration=0,epsilon=0,e_frequency=0,r=-1,r_range=None):\n",
    "    ''' Wrapper function for logicstic map generation with kick.\n",
    "\n",
    "    Parameters:\n",
    "        `iterations`: the number of iterations that will be taken into account, this will determine the length of the pattern.\n",
    "        `start_iteration`: after what iteration to start observing the pattern. defaults to `0`.\n",
    "        `epsilon`: The magnitude of the random kick applied, when 0.5 is passed, the kick will be between -0.5,0.5. default to 0\n",
    "        `e_frequency`: Nonnegative number determining the frequency of the kick. defaults to 0.\n",
    "                       If the number is in the range [0,1), this is a probability.\n",
    "    '''\n",
    "                       # Otherwise it represents the frequency of the kick (1 means every time, 2 means every two time [nokick,kick,nokick,kick]) NOT IMPLEMENTED\n",
    "    patterns = generate_patterns(start_iteration+iterations,epsilon=epsilon,e_freq=e_frequency,r=r,r_range=r_range)\n",
    "    patterns = [ pattern[start_iteration:] for pattern in patterns]\n",
    "    return patterns"
   ]
  },
  {
   "cell_type": "code",
   "execution_count": 22,
   "metadata": {},
   "outputs": [],
   "source": [
    "kcs = []"
   ]
  },
  {
   "cell_type": "code",
   "execution_count": 26,
   "metadata": {},
   "outputs": [
    {
     "data": {
      "image/png": "[encoded data removed]",
      "text/plain": [
       "<Figure size 640x480 with 1 Axes>"
      ]
     },
     "metadata": {},
     "output_type": "display_data"
    }
   ],
   "source": [
    "for r_range in [[0,4],[3,4],[3.57,4],[4,4]]:\n",
    "    patterns = generate_logistic(25,0,0,0,-1,r_range=r_range)\n",
    "    complexities = [calc_KC76(x) for x in patterns]\n",
    "    plt.clf()\n",
    "    plt.hist(complexities)\n",
    "    plt.savefig(f\"results/histograms/hist_{r_range[0]}_to_{r_range[1]}.jpg\")"
   ]
  }
 ],
 "metadata": {
  "kernelspec": {
   "display_name": "Python 3",
   "language": "python",
   "name": "python3"
  },
  "language_info": {
   "codemirror_mode": {
    "name": "ipython",
    "version": 3
   },
   "file_extension": ".py",
   "mimetype": "text/x-python",
   "name": "python",
   "nbconvert_exporter": "python",
   "pygments_lexer": "ipython3",
   "version": "3.11.4"
  },
  "orig_nbformat": 4
 },
 "nbformat": 4,
 "nbformat_minor": 2
}
