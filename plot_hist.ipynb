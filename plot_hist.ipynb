{
 "cells": [
  {
   "cell_type": "code",
   "execution_count": 1,
   "metadata": {},
   "outputs": [],
   "source": [
    "import pandas as pd\n",
    "import numpy as np\n",
    "import matplotlib.pyplot as plt\n",
    "from numba import njit,prange\n",
    "import random\n",
    "from collections import Counter\n",
    "from KC_methods import calc_KC76, calc_KC78, calc_plotnik, comp_from_ctw"
   ]
  },
  {
   "cell_type": "code",
   "execution_count": 11,
   "metadata": {},
   "outputs": [
    {
     "name": "stdout",
     "output_type": "stream",
     "text": [
      "26.683170289974488\n",
      "1.7548875021634682\n",
      "35.904981118614764\n"
     ]
    }
   ],
   "source": [
    "s =\"01010101010101011110100101010100101\"\n",
    "print(comp_from_ctw(s))\n",
    "print(calc_plotnik(s))\n",
    "print(calc_KC76(s))"
   ]
  },
  {
   "cell_type": "code",
   "execution_count": 12,
   "metadata": {},
   "outputs": [],
   "source": [
    "methods = {\n",
    "    \"LZ78\":calc_KC78,\n",
    "    \"LZ76\": calc_KC76,\n",
    "    \"CTW\": comp_from_ctw,\n",
    "    \"PLT\": calc_plotnik\n",
    "}"
   ]
  },
  {
   "cell_type": "code",
   "execution_count": 13,
   "metadata": {},
   "outputs": [],
   "source": [
    "from itertools import product\n",
    "import  matplotlib.pyplot as plt\n",
    "from collections import defaultdict\n",
    "res = []\n",
    "reses = defaultdict(list)\n",
    "from tqdm.notebook import tqdm\n",
    "\n",
    "length = 20\n",
    "\n",
    "sequences = list(product([\"0\",\"1\"],repeat=length))\n",
    "\n"
   ]
  },
  {
   "cell_type": "code",
   "execution_count": 14,
   "metadata": {},
   "outputs": [
    {
     "name": "stdout",
     "output_type": "stream",
     "text": [
      "1048576\n"
     ]
    },
    {
     "data": {
      "application/vnd.jupyter.widget-view+json": {
       "model_id": "7cd85e4b4413431b8b395c70eb87ba03",
       "version_major": 2,
       "version_minor": 0
      },
      "text/plain": [
       "LZ78:   0%|          | 0/1048576 [00:00<?, ?it/s]"
      ]
     },
     "metadata": {},
     "output_type": "display_data"
    },
    {
     "data": {
      "application/vnd.jupyter.widget-view+json": {
       "model_id": "8a66180816b7448b94a54a5b1236b96f",
       "version_major": 2,
       "version_minor": 0
      },
      "text/plain": [
       "LZ76:   0%|          | 0/1048576 [00:00<?, ?it/s]"
      ]
     },
     "metadata": {},
     "output_type": "display_data"
    },
    {
     "data": {
      "application/vnd.jupyter.widget-view+json": {
       "model_id": "3608e5bac40241249b6345661132a3c8",
       "version_major": 2,
       "version_minor": 0
      },
      "text/plain": [
       "CTW:   0%|          | 0/1048576 [00:00<?, ?it/s]"
      ]
     },
     "metadata": {},
     "output_type": "display_data"
    },
    {
     "data": {
      "application/vnd.jupyter.widget-view+json": {
       "model_id": "7a196625494c448ab227d65b6daecb2c",
       "version_major": 2,
       "version_minor": 0
      },
      "text/plain": [
       "PLT:   0%|          | 0/1048576 [00:00<?, ?it/s]"
      ]
     },
     "metadata": {},
     "output_type": "display_data"
    }
   ],
   "source": [
    "reses = defaultdict(list)\n",
    "print(len(sequences))\n",
    "import multiprocessing.dummy as mp \n",
    "\n",
    "def get_comps(method):\n",
    "    res = []\n",
    "    for perm in tqdm(sequences, desc=method):\n",
    "        seq = \"\".join(perm)\n",
    "        res.append(methods[method](seq))\n",
    "    return res\n",
    "\n",
    "p = mp.Pool(4)\n",
    "final_results = p.map(get_comps,methods)\n",
    "p.close()\n",
    "p.join()"
   ]
  },
  {
   "cell_type": "code",
   "execution_count": 15,
   "metadata": {},
   "outputs": [
    {
     "data": {
      "image/png": "[encoded data removed]",
      "text/plain": [
       "<Figure size 640x480 with 1 Axes>"
      ]
     },
     "metadata": {},
     "output_type": "display_data"
    }
   ],
   "source": [
    "len(final_results)\n",
    "final_results[2]\n",
    "import matplotlib.pyplot as plt\n",
    "names = list(methods.keys())\n",
    "for i in range(len(final_results)):\n",
    "    x = final_results[i]\n",
    "    m = names[i]\n",
    "    bins = 30\n",
    "    plt.clf()\n",
    "    plt.hist(x, bins=bins)\n",
    "    plt.yscale('log')\n",
    "    plt.savefig(f\"results/hist/{m}_{bins}.jpg\")"
   ]
  }
 ],
 "metadata": {
  "kernelspec": {
   "display_name": "Python 3",
   "language": "python",
   "name": "python3"
  },
  "language_info": {
   "codemirror_mode": {
    "name": "ipython",
    "version": 3
   },
   "file_extension": ".py",
   "mimetype": "text/x-python",
   "name": "python",
   "nbconvert_exporter": "python",
   "pygments_lexer": "ipython3",
   "version": "3.10.11"
  },
  "orig_nbformat": 4
 },
 "nbformat": 4,
 "nbformat_minor": 2
}
