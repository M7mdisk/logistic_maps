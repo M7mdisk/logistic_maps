{
 "cells": [
  {
   "cell_type": "code",
   "execution_count": 54,
   "metadata": {},
   "outputs": [],
   "source": [
    "import numpy as np\n",
    "import matplotlib.pyplot as plt"
   ]
  },
  {
   "cell_type": "code",
   "execution_count": 55,
   "metadata": {},
   "outputs": [],
   "source": [
    "\n",
    "def KC_LZ(string):\n",
    "    n = len(string)\n",
    "    s = '0'+string\n",
    "    c = 1\n",
    "    l = 1\n",
    "    i = 0\n",
    "    k = 1\n",
    "    k_max = 1\n",
    "\n",
    "    while True:\n",
    "        if s[i+k] != s[l+k]:\n",
    "            if k > k_max:\n",
    "                k_max = k\n",
    "            i += 1\n",
    "            if i == l:\n",
    "                c += 1\n",
    "                l += k_max\n",
    "                if l+1 > n:\n",
    "                    break\n",
    "                else:\n",
    "                    i = 0\n",
    "                    k = 1\n",
    "                    k_max = 1\n",
    "            else:\n",
    "                k = 1\n",
    "        else:\n",
    "            k += 1\n",
    "            if l+k > n:\n",
    "                c += 1\n",
    "                break\n",
    "    # a la Lempel and Ziv (IEEE trans inf theory it-22, 75 (1976),\n",
    "    # h(n)=c(n)/b(n) where c(n) is the kolmogorov complexity\n",
    "    # and h(n) is a normalised measure of complexity.\n",
    "    complexity = c\n",
    "    # b=n*1.0/np.log2(n)\n",
    "    # complexity=c/b;\n",
    "    return complexity\n"
   ]
  },
  {
   "cell_type": "code",
   "execution_count": 56,
   "metadata": {},
   "outputs": [],
   "source": [
    "def calc_KC(s):\n",
    "    L = len(s)\n",
    "    if s == '0'*L or s == '1'*L:\n",
    "        return np.log2(L)\n",
    "    else:\n",
    "        return np.log2(L)*(KC_LZ(s)+KC_LZ(s[::-1]))/2.0"
   ]
  },
  {
   "cell_type": "code",
   "execution_count": 57,
   "metadata": {},
   "outputs": [],
   "source": [
    "iterations = 25\n",
    "\n",
    "def f(x,r):\n",
    "    return r * x * (1-x)\n",
    "\n",
    "def logistic_map(x_0,r,iterations):\n",
    "    res = [x_0]\n",
    "    cur = x_0\n",
    "    for i in range(iterations-1):\n",
    "        cur = f(cur,r)\n",
    "        res.append(cur)\n",
    "    return res\n",
    "\n",
    "def discretize(arr):\n",
    "    return list(map(round,arr))\n",
    "\n",
    "def to_bin(arr):\n",
    "    return ''.join(list(map(str,arr)))"
   ]
  },
  {
   "cell_type": "code",
   "execution_count": 58,
   "metadata": {},
   "outputs": [],
   "source": [
    "samples = 10**6\n",
    "points = []\n",
    "for _ in range(samples):\n",
    "    points.append(to_bin(discretize(logistic_map(np.random.rand(),np.random.uniform(4),iterations))) )"
   ]
  },
  {
   "cell_type": "code",
   "execution_count": 59,
   "metadata": {},
   "outputs": [],
   "source": [
    "\n",
    "from collections import Counter\n",
    "counts = Counter(points)\n",
    "\n",
    "probability = counts.copy()\n",
    "for key in probability:\n",
    "    probability[key] /= samples\n"
   ]
  },
  {
   "cell_type": "code",
   "execution_count": 60,
   "metadata": {},
   "outputs": [],
   "source": [
    "\n",
    "probability_values =  list(probability.values())\n",
    "complexities = list(map(calc_KC,probability.keys()))"
   ]
  },
  {
   "cell_type": "code",
   "execution_count": 61,
   "metadata": {},
   "outputs": [
    {
     "data": {
      "text/plain": [
       "<matplotlib.collections.PathCollection at 0x261f1203310>"
      ]
     },
     "execution_count": 61,
     "metadata": {},
     "output_type": "execute_result"
    },
    {
     "data": {
      "image/png": "[encoded data removed]",
      "text/plain": [
       "<Figure size 640x480 with 1 Axes>"
      ]
     },
     "metadata": {},
     "output_type": "display_data"
    }
   ],
   "source": [
    "plt.scatter(complexities,np.log10(probability_values))"
   ]
  },
  {
   "cell_type": "code",
   "execution_count": null,
   "metadata": {},
   "outputs": [],
   "source": []
  }
 ],
 "metadata": {
  "kernelspec": {
   "display_name": "Python 3",
   "language": "python",
   "name": "python3"
  },
  "language_info": {
   "codemirror_mode": {
    "name": "ipython",
    "version": 3
   },
   "file_extension": ".py",
   "mimetype": "text/x-python",
   "name": "python",
   "nbconvert_exporter": "python",
   "pygments_lexer": "ipython3",
   "version": "3.10.9 (tags/v3.10.9:1dd9be6, Dec  6 2022, 20:01:21) [MSC v.1934 64 bit (AMD64)]"
  },
  "orig_nbformat": 4,
  "vscode": {
   "interpreter": {
    "hash": "b24365a9e581578216d0d29db6b7b60d5f38a355f07d5a2e870dec36c1112eec"
   }
  }
 },
 "nbformat": 4,
 "nbformat_minor": 2
}
