{
 "cells": [
  {
   "cell_type": "code",
   "execution_count": 1,
   "metadata": {},
   "outputs": [],
   "source": [
    "import numpy as np\n",
    "from math import sqrt\n",
    "\n",
    "def calc_KC78(x):\n",
    "    # x is the input string to compress\n",
    "    x = str(x)\n",
    "\n",
    "    # length of input string\n",
    "    len_x=len(x)\n",
    "    \n",
    "    # number of different characters in string (i.e. size of alphabet). We set the smallerst alphabet to be 2 (i.e. binary)\n",
    "    alpha = np.max([len(set(x)),2])\n",
    "\n",
    "    # Initialise empty dictionary\n",
    "    Dict = []\n",
    "\n",
    "    # k is the value we have read up until\n",
    "    k = 0\n",
    "\n",
    "    # w is the length of the block that we read\n",
    "    w = 0\n",
    "\n",
    "    while k+w<=len_x:\n",
    "        # r current substring of x\n",
    "        r = x[k:k+w]\n",
    "\n",
    "        if r in Dict:\n",
    "            w = w + 1\n",
    "        else:\n",
    "            Dict.append(r)\n",
    "            k = k + w\n",
    "            w = 0\n",
    "\n",
    "    # The \"remove\" is because the algorithm counts '' as a word\n",
    "    Dict.remove('')\n",
    "    return Dict"
   ]
  },
  {
   "cell_type": "code",
   "execution_count": 22,
   "metadata": {},
   "outputs": [
    {
     "name": "stdout",
     "output_type": "stream",
     "text": [
      "['0', '01', '010', '1', '00']\n",
      "['00010', '110', '0']\n",
      "0.7142857142857143\n",
      "0.4\n",
      "0.6666666666666666\n"
     ]
    }
   ],
   "source": [
    "dictionary = calc_KC78(\"001010100\")\n",
    "\n",
    "def bins(segs):\n",
    "    longest_len = max([len(x) for x in segs])\n",
    "    res = []\n",
    "    for i in range(longest_len):\n",
    "        cur = \"\"\n",
    "        for s in segs:\n",
    "            if i < len(s):\n",
    "                cur+=s[i]\n",
    "        res.append(cur)\n",
    "    return res\n",
    "\n",
    "def N(x,j,bins):\n",
    "    return bins[j].count(x)\n",
    "\n",
    "def Nt(j,bins):\n",
    "    return N('0',j,bins) + N('1',j,bins)\n",
    "\n",
    "def proba(x,j,bins):\n",
    "    return (N(x,j,bins)+1)/(Nt(j,bins)+2)\n",
    "\n",
    "def e(j,bins):\n",
    "    return 1/(2*sqrt(Nt(j,bins)+2))\n",
    "\n",
    "# print(dictionary)\n",
    "# print(bikns(dictionary))\n",
    "# list(zip(*dictionary))\n",
    "\n",
    "dictionary = calc_KC78(\"001010100\")\n",
    "bins = bins(dictionary)\n",
    "print(dictionary)\n",
    "print(bins)\n",
    "for i in range(len(bins)):\n",
    "    print(proba('0',i,bins))"
   ]
  }
 ],
 "metadata": {
  "kernelspec": {
   "display_name": "Python 3",
   "language": "python",
   "name": "python3"
  },
  "language_info": {
   "codemirror_mode": {
    "name": "ipython",
    "version": 3
   },
   "file_extension": ".py",
   "mimetype": "text/x-python",
   "name": "python",
   "nbconvert_exporter": "python",
   "pygments_lexer": "ipython3",
   "version": "3.10.10"
  },
  "orig_nbformat": 4
 },
 "nbformat": 4,
 "nbformat_minor": 2
}
