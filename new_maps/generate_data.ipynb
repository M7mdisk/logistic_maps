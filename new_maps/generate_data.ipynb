{
 "cells": [
  {
   "cell_type": "code",
   "execution_count": 2,
   "metadata": {},
   "outputs": [],
   "source": [
    "import pandas as pd\n",
    "\n",
    "from different_maps import generate_map,logistic_map,gauss_map,sine_map, generate_map_raw"
   ]
  },
  {
   "cell_type": "code",
   "execution_count": 4,
   "metadata": {},
   "outputs": [],
   "source": [
    "for mp in [logistic_map,gauss_map,sine_map]:\n",
    "    name = f'{mp.func.__name__}'\n",
    "    data = generate_map(25,mp)\n",
    "    df = pd.DataFrame(data,columns=[\"pattern\"])\n",
    "    df.to_csv(f\"{name}_patterns.csv\",index=False)"
   ]
  },
  {
   "cell_type": "code",
   "execution_count": null,
   "metadata": {},
   "outputs": [],
   "source": [
    "data = generate_map_raw(25,logistic_map.func,(0.0,3.5699),(0,1),0.5)\n",
    "df = pd.DataFrame(data,columns=[\"patterns\"])\n",
    "df.to_csv(\"logisitc_35699.csv\",index=False)"
   ]
  }
 ],
 "metadata": {
  "kernelspec": {
   "display_name": "Python 3",
   "language": "python",
   "name": "python3"
  },
  "language_info": {
   "codemirror_mode": {
    "name": "ipython",
    "version": 3
   },
   "file_extension": ".py",
   "mimetype": "text/x-python",
   "name": "python",
   "nbconvert_exporter": "python",
   "pygments_lexer": "ipython3",
   "version": "3.11.6"
  }
 },
 "nbformat": 4,
 "nbformat_minor": 2
}
